{
  "nbformat": 4,
  "nbformat_minor": 0,
  "metadata": {
    "colab": {
      "provenance": [],
      "collapsed_sections": []
    },
    "kernelspec": {
      "name": "python3",
      "display_name": "Python 3"
    },
    "language_info": {
      "name": "python"
    }
  },
  "cells": [
    {
      "cell_type": "markdown",
      "source": [
        "Создание ссылок"
      ],
      "metadata": {
        "id": "vhJ998hQVq-5"
      }
    },
    {
      "cell_type": "code",
      "source": [
        "ln -s /usr/share/data-minor-bioinf/assembly/oil_R1.fastq\n",
        "ln -s /usr/share/data-minor-bioinf/assembly/oil_R2.fastq\n",
        "ln -s /usr/share/data-minor-bioinf/assembly/oilMP_S4_L001_R1_001.fastq\n",
        "ln -s /usr/share/data-minor-bioinf/assembly/oilMP_S4_L001_R2_001.fastq"
      ],
      "metadata": {
        "id": "X_nunhEoVu-9"
      },
      "execution_count": null,
      "outputs": []
    },
    {
      "cell_type": "markdown",
      "source": [
        "С помощью команды seqtk выбраны случайно 5 миллионов чтений типа paired-end"
      ],
      "metadata": {
        "id": "TqEnVEdQVznO"
      }
    },
    {
      "cell_type": "code",
      "source": [
        "seqtk sample -s126 oil_R1.fastq 5000000 > paired_end_R1.fastq\n",
        "seqtk sample -s126 oil_R2.fastq 5000000 > paired_end_R2.fastq"
      ],
      "metadata": {
        "id": "HTPQedplV9z6"
      },
      "execution_count": null,
      "outputs": []
    },
    {
      "cell_type": "markdown",
      "source": [
        "С помощью команды seqtk выбраны 1.5 миллиона чтений типа mate-pairs "
      ],
      "metadata": {
        "id": "QrxTJVEqWB3R"
      }
    },
    {
      "cell_type": "code",
      "source": [
        "seqtk sample -s126 oilMP_S4_L001_R1_001.fastq 1500000 > mate_pairs_R1.fastq\n",
        "seqtk sample -s126 oilMP_S4_L001_R2_001.fastq 1500000 > mate_pairs_R2.fastq"
      ],
      "metadata": {
        "id": "4a8w8OFrWNRW"
      },
      "execution_count": null,
      "outputs": []
    },
    {
      "cell_type": "markdown",
      "source": [
        "Применение программы FastQC для оценки качества исходных чтений"
      ],
      "metadata": {
        "id": "Vqmmhi-eWRig"
      }
    },
    {
      "cell_type": "code",
      "source": [
        "mkdir fastqc\n",
        "ls paired_end_R* mate_pairs_R* | xargs -P 4 -tI{} fastqc -o fastqc {}"
      ],
      "metadata": {
        "id": "34ThzQdtWxX3"
      },
      "execution_count": null,
      "outputs": []
    },
    {
      "cell_type": "markdown",
      "source": [
        "Создание отчета через MultiQC"
      ],
      "metadata": {
        "id": "WoSy8fCwXCMY"
      }
    },
    {
      "cell_type": "code",
      "source": [
        "mkdir multiqc\n",
        "multiqc -o multiqc fastqc"
      ],
      "metadata": {
        "id": "1mTtYSSlXAsJ"
      },
      "execution_count": null,
      "outputs": []
    },
    {
      "cell_type": "markdown",
      "source": [
        "С помощью программ platanus_trim и platanus_internal_trim подрезаны чтения по качеству и удалены адаптеры\n"
      ],
      "metadata": {
        "id": "Q5jfZq8hXMCO"
      }
    },
    {
      "cell_type": "code",
      "source": [
        "platanus_trim sub*\n",
        "platanus_internal_trim matep*"
      ],
      "metadata": {
        "id": "1tX-wYaRXVFo"
      },
      "execution_count": null,
      "outputs": []
    },
    {
      "cell_type": "markdown",
      "source": [
        "Оценка качества обрезанных чтений с помощью FastQC"
      ],
      "metadata": {
        "id": "MppjChOhXc_O"
      }
    },
    {
      "cell_type": "code",
      "source": [
        "mkdir fastqc_trimmed\n",
        "ls paired_end_R* mate_pairs_R*| xargs -P 4 -tI{} fastqc -o fastqc_trimmed {}"
      ],
      "metadata": {
        "id": "rcSNria8Xg_B"
      },
      "execution_count": null,
      "outputs": []
    },
    {
      "cell_type": "markdown",
      "source": [
        "Создание отчета для обрезанных чтений через MultiQC"
      ],
      "metadata": {
        "id": "DE5LGX-kXlhz"
      }
    },
    {
      "cell_type": "code",
      "source": [
        "mkdir multiqc_trimmed\n",
        "multiqc -o multiqc_trimmed fastqc_trimmed"
      ],
      "metadata": {
        "id": "TmFbYntxXo1C"
      },
      "execution_count": null,
      "outputs": []
    },
    {
      "cell_type": "markdown",
      "source": [
        "Сбор контиг с помощью программы “platanus assemble”"
      ],
      "metadata": {
        "id": "58yH3z4cXzGY"
      }
    },
    {
      "cell_type": "code",
      "source": [
        "time platanus assemble -o Poil -f paired_end_R1.fastq.trimmed paired_end_R2.fastq.trimmed 2> assemble.log"
      ],
      "metadata": {
        "id": "jYcKXD9dX8eJ"
      },
      "execution_count": null,
      "outputs": []
    },
    {
      "cell_type": "markdown",
      "source": [
        "Сбор скаффолдов с помощью “platanus scaffold”"
      ],
      "metadata": {
        "id": "l57IW8kzX_BR"
      }
    },
    {
      "cell_type": "code",
      "source": [
        "time platanus scaffold -o Poil -c Poil_contig.fa -IP1 paired_end_R1.fastq.trimmed paired_end_R2.fastq.trimmed -OP2 mate_pairs_R1.fastq.int_trimmed mate_pairs_R2.fastq.int_trimmed 2> scaffold.log"
      ],
      "metadata": {
        "id": "0sz8nuxQYF9D"
      },
      "execution_count": null,
      "outputs": []
    },
    {
      "cell_type": "markdown",
      "source": [
        "Уменьшение кол-ва гэпов с помощью подрезанных чтений, используя программу “platanus gap_close” \n"
      ],
      "metadata": {
        "id": "JbNdjVkRYNFR"
      }
    },
    {
      "cell_type": "code",
      "source": [
        "time platanus gap_close -o Poil -c Poil_scaffold.fa -IP1 paired_end_R1.fastq.trimmed paired_end_R2.fastq.trimmed -OP2 mate_pairs_R1.fastq.int_trimmed mate_pairs_R2.fastq.int_trimmed 2> gapclose.log"
      ],
      "metadata": {
        "id": "iBJ-Cx7wYaCD"
      },
      "execution_count": null,
      "outputs": []
    }
  ]
}