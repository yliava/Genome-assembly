{
  "nbformat": 4,
  "nbformat_minor": 0,
  "metadata": {
    "colab": {
      "provenance": []
    },
    "kernelspec": {
      "name": "python3",
      "display_name": "Python 3"
    },
    "language_info": {
      "name": "python"
    }
  },
  "cells": [
    {
      "cell_type": "code",
      "execution_count": 1,
      "metadata": {
        "id": "Yy8b4b0la87y"
      },
      "outputs": [],
      "source": [
        "import re"
      ]
    },
    {
      "cell_type": "code",
      "source": [
        "def analysis(f, text, output = True):\n",
        "    sequence_lengths = list()\n",
        "    total_length = 0\n",
        "    num = 0\n",
        "    max_length = 0\n",
        "    length = 0\n",
        "    score = 0\n",
        "    max_sequence = ''\n",
        "    curr_sequence = ''\n",
        "    for line in f:\n",
        "        if (line[0] == '>'):\n",
        "            if num != 0:\n",
        "                sequence_lengths.append(length)\n",
        "            num += 1\n",
        "            if length >= max_length:\n",
        "                max_length = length\n",
        "                max_sequence = curr_sequence\n",
        "            curr_sequence = ''\n",
        "            length = 0\n",
        "        else:\n",
        "            curr_sequence += line.strip()\n",
        "            length += len(line.strip())\n",
        "            total_length += len(line.strip())\n",
        "     \n",
        "    sequence_lengths.sort(reverse = True) \n",
        "    for i in sequence_lengths:\n",
        "        score += i\n",
        "        if score >= total_length / 2:\n",
        "            if output == True:\n",
        "                print(f'Анализ {text}\\n\\\n",
        "Общее количество {text}: {num}\\n\\\n",
        "Общая длина {text}: {total_length}\\n\\\n",
        "Длина самого длинного из {text}: {max_length}\\n\\\n",
        "N50: {i}\\n')\n",
        "            break\n",
        "    return max_sequence\n"
      ],
      "metadata": {
        "id": "JZ8tIFCPa-Q4"
      },
      "execution_count": 42,
      "outputs": []
    },
    {
      "cell_type": "code",
      "source": [
        "max_cont = analysis(open('Poil_contig.fa', 'r'), 'контигов')"
      ],
      "metadata": {
        "colab": {
          "base_uri": "https://localhost:8080/"
        },
        "id": "rSsXy7hbex_M",
        "outputId": "996542b6-bb23-451a-cc5c-73e650455b5c"
      },
      "execution_count": 44,
      "outputs": [
        {
          "output_type": "stream",
          "name": "stdout",
          "text": [
            "Анализ контигов\n",
            "Общее количество контигов: 626\n",
            "Общая длина контигов: 3926818\n",
            "Длина самого длинного из контигов: 135087\n",
            "N50: 52802\n",
            "\n"
          ]
        }
      ]
    },
    {
      "cell_type": "code",
      "source": [
        "max_scaf = analysis(open('Poil_scaffold.fa', 'r'), 'скаффолдов')"
      ],
      "metadata": {
        "colab": {
          "base_uri": "https://localhost:8080/"
        },
        "id": "4fD8Tjb8fCER",
        "outputId": "51efb273-03e3-4ef8-b022-b06c2d514980"
      },
      "execution_count": 45,
      "outputs": [
        {
          "output_type": "stream",
          "name": "stdout",
          "text": [
            "Анализ скаффолдов\n",
            "Общее количество скаффолдов: 74\n",
            "Общая длина скаффолдов: 3875854\n",
            "Длина самого длинного из скаффолдов: 3831887\n",
            "N50: 3831887\n",
            "\n"
          ]
        }
      ]
    },
    {
      "cell_type": "code",
      "source": [
        "print(f'Общая длина гэпов: {max_scaf.count(\"N\")}')\n",
        "max_scaf = re.sub(r'N{2,}', 'N', max_scaf)\n",
        "print(f'Число гэпов: {max_scaf.count(\"N\")}')"
      ],
      "metadata": {
        "colab": {
          "base_uri": "https://localhost:8080/"
        },
        "id": "SzFOlItcfDBz",
        "outputId": "5bb4691a-9392-4734-b668-b8f05a1a6704"
      },
      "execution_count": 46,
      "outputs": [
        {
          "output_type": "stream",
          "name": "stdout",
          "text": [
            "Общая длина гэпов: 6550\n",
            "Число гэпов: 61\n"
          ]
        }
      ]
    },
    {
      "cell_type": "code",
      "source": [
        "max_scaf = analysis(open('Poil_gapClosed.fa', 'r'), 'скаффолдов', False)"
      ],
      "metadata": {
        "id": "t-mbJAPWfGbB"
      },
      "execution_count": 47,
      "outputs": []
    },
    {
      "cell_type": "code",
      "source": [
        "print(f'Общая длина гэпов для обрезанных чтений: {max_scaf.count(\"N\")}')\n",
        "max_scaf = re.sub(r'N{2,}', 'N', max_scaf)\n",
        "print(f'Число гэпов для обрезанных чтений: {max_scaf.count(\"N\")}')"
      ],
      "metadata": {
        "colab": {
          "base_uri": "https://localhost:8080/"
        },
        "id": "mlZp98UifILJ",
        "outputId": "94c7436d-17c5-4208-bbe2-a4f5921af9f8"
      },
      "execution_count": 48,
      "outputs": [
        {
          "output_type": "stream",
          "name": "stdout",
          "text": [
            "Общая длина гэпов для обрезанных чтений: 1698\n",
            "Число гэпов для обрезанных чтений: 7\n"
          ]
        }
      ]
    }
  ]
}